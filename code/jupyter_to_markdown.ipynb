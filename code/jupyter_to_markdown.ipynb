{
 "cells": [
  {
   "cell_type": "code",
   "execution_count": 1,
   "id": "bdd6a9dc-1f44-46ca-bacb-3fec158bc91d",
   "metadata": {},
   "outputs": [],
   "source": [
    "import nbformat\n",
    "from nbconvert import MarkdownExporter\n",
    "import re\n",
    "def convert_ipynb_to_md(ipynb_file, md_file):\n",
    "    with open(ipynb_file, 'r', encoding='utf-8') as f:\n",
    "        nb = nbformat.read(f, nbformat.NO_CONVERT)\n",
    "\n",
    "    exporter = MarkdownExporter()\n",
    "    body, resources = exporter.from_notebook_node(nb)\n",
    "\n",
    "    # Remove any pngs added simply from output of notebook (images should be explicity pulled from figs subdirectory)\n",
    "    pattern = r'!\\[png\\]\\(output.*\\.png\\)'\n",
    "    body = re.sub(pattern, '', body)\n",
    "\n",
    "    with open(md_file, 'w', encoding='utf-8') as f:\n",
    "        f.write(body)\n",
    "\n",
    "\n"
   ]
  },
  {
   "cell_type": "markdown",
   "id": "8b0a59b8-410f-42c7-a3c5-3fe20a386b7d",
   "metadata": {},
   "source": [
    "The below code will format any exercises in a markdown file to jekyll format. For the conversion to work, exercises need to be formatted as follows in markdown or ipython files...\n",
    "```\n",
    "#### EXERCISE_START: Name Of Exercise\n",
    "line1 of exercise body (instructions for exercise)\n",
    "line2 of exercise body (instructions for exercise)\n",
    "...\n",
    "##### CODE_START\n",
    "print('hello')\n",
    "print('goodbye')\n",
    "##### CODE_END\n",
    "##### OUTPUT_START\n",
    "hello\n",
    "goodbye\n",
    "##### OUTPUT_END\n",
    "\n",
    "lineN of exercise body (instructions for exercise)\n",
    "#### EXERCISE_SOLUTION \n",
    "line1 of solution \n",
    "line2 of solution \n",
    "...\n",
    "lineN of solution\n",
    "#### EXERCISE_END \n",
    "```\n",
    "\n",
    "Note\n",
    "- beginning of exercise, solution, and end are indicated by a single hashtag followed by the location tag name\n",
    "- make sure to captitalize all letters of EXERCISE_START, EXERCISE_SOLUTION, and EXERCISE_END\n",
    "- **new problem discovered**: Careful when using numbered lists in an exercise. You need an empty newline following a numbered list for the markdown file to render correctly. In jupyter notebooks, leave a blank newline after a numbered list and everything should format correctly in the markdown.\n",
    "\n",
    "Code formatting in exercises...\n",
    "> ~~~\n",
    "> it may include some code\n",
    "> ~~~\n",
    "> {: .source}\n",
    "\n",
    "Output formatting in exercises...\n",
    "> ~~~\n",
    "> it may include some code\n",
    "> ~~~\n",
    "> {: .output}"
   ]
  },
  {
   "cell_type": "code",
   "execution_count": 2,
   "id": "18fffa09-72f2-484d-906f-69263a9516f4",
   "metadata": {},
   "outputs": [],
   "source": [
    "def convert_exercises(input_file, save_output):\n",
    "    converted_lines = []\n",
    "    in_start = False\n",
    "    in_solution = False\n",
    "    # in_code = False\n",
    "    edits_made = False\n",
    "    with open(input_file, 'r', encoding='utf-8') as file:\n",
    "        for line in file:\n",
    "            if line.startswith(\"#### EXERCISE_START:\"):\n",
    "                edits_made = True\n",
    "                in_start = True\n",
    "                exercise_name = line.strip().replace(\"#### EXERCISE_START:\", \"\").strip()\n",
    "                if not save_output:\n",
    "                    print('FORMATTING EXERCISE:',  exercise_name)\n",
    "                converted_lines.append(f\"> ## {exercise_name}\")\n",
    "            elif line.startswith(\"#### EXERCISE_SOLUTION\"):\n",
    "                edits_made = True\n",
    "                in_start = False\n",
    "                in_solution = True\n",
    "                converted_lines.append(\"> > ## Solution\")\n",
    "                converted_lines.append(\"> >\")\n",
    "            elif line.startswith(\"#### EXERCISE_END\"):\n",
    "                edits_made = True\n",
    "                in_solution = False\n",
    "                converted_lines.append(\"> {:.solution}\\n{:.challenge}\")\n",
    "                converted_lines.append(\"\")\n",
    "            elif line.startswith(\"##### CODE_START\"):\n",
    "                # in_code = True\n",
    "                code_start_line = line.strip().replace(\"##### CODE_START\", \"~~~\").strip()\n",
    "                if in_start:\n",
    "                    converted_lines.append(f\"> {code_start_line}\")\n",
    "                elif in_solution:\n",
    "                    converted_lines.append(f\"> > {code_start_line}\")\n",
    "            elif line.startswith(\"##### CODE_END\"):\n",
    "                # in_code = True\n",
    "                code_end_line1 = line.strip().replace(\"##### CODE_END\", \"~~~\").strip()\n",
    "                code_end_line2 = \"{: .language-python}\"\n",
    "                if in_start:\n",
    "                    converted_lines.append(f\"> {code_end_line1}\")\n",
    "                    converted_lines.append(f\"> {code_end_line2}\")\n",
    "                elif in_solution:\n",
    "                    converted_lines.append(f\"> > {code_end_line1}\")\n",
    "                    converted_lines.append(f\"> > {code_end_line2}\")\n",
    "            elif line.startswith(\"##### OUTPUT_START\"):\n",
    "                # in_code = True\n",
    "                out_start_line = line.strip().replace(\"##### OUTPUT_START\", \"~~~\").strip()\n",
    "                if in_start:\n",
    "                    converted_lines.append(f\"> {out_start_line}\")\n",
    "                elif in_solution:\n",
    "                    converted_lines.append(f\"> > {out_start_line}\")\n",
    "            elif line.startswith(\"##### OUTPUT_END\"):\n",
    "                # in_code = True\n",
    "                out_end_line1 = line.strip().replace(\"##### OUTPUT_END\", \"~~~\").strip()\n",
    "                out_end_line2 = \"{: .output}\"\n",
    "                if in_start:\n",
    "                    converted_lines.append(f\"> {out_end_line1}\")\n",
    "                    converted_lines.append(f\"> {out_end_line2}\")\n",
    "                elif in_solution:\n",
    "                    converted_lines.append(f\"> > {out_end_line1}\")\n",
    "                    converted_lines.append(f\"> > {out_end_line2}\")\n",
    "            elif in_start:\n",
    "                converted_lines.append(f\"> {line.strip()}\")\n",
    "            elif in_solution:\n",
    "                converted_lines.append(f\"> > {line.strip()}\")\n",
    "            else:\n",
    "                converted_lines.append(line.rstrip())\n",
    "                \n",
    "    if edits_made and save_output:\n",
    "        with open(input_file, 'w', encoding='utf-8') as file:\n",
    "            file.write('\\n'.join(converted_lines))\n",
    "    elif edits_made:\n",
    "        print()\n",
    "        print(\"Preview of file conversion...\")\n",
    "        for line in converted_lines:\n",
    "            print(line)\n",
    "    else:\n",
    "        print('No exercises (pre-formatted) were detected in this markdown file.')\n",
    "        \n"
   ]
  },
  {
   "cell_type": "code",
   "execution_count": 3,
   "id": "8162dfa2-d190-4271-86fb-5c56930c4202",
   "metadata": {},
   "outputs": [
    {
     "data": {
      "text/plain": [
       "['02-Intro-to-Ames-Housing-Dataset',\n",
       " '03-Regression-intro',\n",
       " '04-Relevant-predictors-and-coef-bias',\n",
       " '05-Regression-assumptions',\n",
       " '06-Hypothesis-testing']"
      ]
     },
     "execution_count": 3,
     "metadata": {},
     "output_type": "execute_result"
    }
   ],
   "source": [
    "# # 1) specify episode being converted\n",
    "# episode_name = '03-Regression-intro' \n",
    "# episode_name = '04-Relevant-predictors-and-coef-bias'\n",
    "# # episode_name = '05-Regression-assumptions' \n",
    "# # episode_name = '06-High-dim-data-prep' \n",
    "# # episode_name = '08-Regularization' \n",
    "# episode_name = '07-c-Multivariate_Regression_with_PCA'\n",
    "# episode_name = '07-d-Feature_Selection_and_PCA-How_It_Works_Example'\n",
    "# episodes = ['03-Regression-intro', '04-Relevant-predictors-and-coef-bias'], '05-Regression-assumptions' ]\n",
    "episodes = ['04-Relevant-predictors-and-coef-bias', '05-Regression-assumptions']\n",
    "episodes = ['05-Regression-assumptions']\n",
    "episodes = ['02-Intro-to-Ames-Housing-Dataset']\n",
    "episodes = ['03-Regression-intro', '04-Relevant-predictors-and-coef-bias', '05-Regression-assumptions' ]\n",
    "episodes = ['05-Regression-assumptions']\n",
    "episodes = ['02-Intro-to-Ames-Housing-Dataset', '03-Regression-intro', '04-Relevant-predictors-and-coef-bias', '05-Regression-assumptions', '06-Hypothesis-testing']\n",
    "episodes = ['06-Hypothesis-testing']\n",
    "episodes = ['03-Regression-intro']\n",
    "episodes = ['04-Relevant-predictors-and-coef-bias']\n",
    "episodes = ['04-Relevant-predictors-and-coef-bias', '05-Regression-assumptions']\n",
    "episodes = ['02-Intro-to-Ames-Housing-Dataset', '03-Regression-intro', '04-Relevant-predictors-and-coef-bias', '05-Regression-assumptions', '06-Hypothesis-testing']\n",
    "episodes"
   ]
  },
  {
   "cell_type": "code",
   "execution_count": 4,
   "id": "284d257a-42c0-47a5-a120-b1d3cfac6331",
   "metadata": {},
   "outputs": [
    {
     "data": {
      "text/plain": [
       "'C:\\\\Users\\\\Endemann\\\\Documents\\\\GitHub\\\\high-dim-data-lesson\\\\code\\\\..\\\\_episodes\\\\'"
      ]
     },
     "execution_count": 4,
     "metadata": {},
     "output_type": "execute_result"
    }
   ],
   "source": [
    "# 2) define output path - episodes folder\n",
    "import os\n",
    "curr_dir = os.getcwd()\n",
    "out_path = curr_dir + '\\\\..\\\\_episodes\\\\'\n",
    "out_path"
   ]
  },
  {
   "cell_type": "code",
   "execution_count": 5,
   "id": "d48bbc0f-6153-4dd7-be56-c145eff82e88",
   "metadata": {},
   "outputs": [
    {
     "name": "stdout",
     "output_type": "stream",
     "text": [
      "No exercises (pre-formatted) were detected in this markdown file.\n"
     ]
    }
   ],
   "source": [
    "for episode_name in episodes:\n",
    "    # 3) convert to markdown\n",
    "    input_ipynb_file = episode_name + '.ipynb'\n",
    "    output_md_file = out_path + episode_name + '.md'\n",
    "    convert_ipynb_to_md(input_ipynb_file, output_md_file) \n",
    "    convert_exercises(output_md_file, save_output=True) \n",
    "    "
   ]
  },
  {
   "cell_type": "code",
   "execution_count": null,
   "id": "caf4972a-a875-4bfe-8341-ee86608c5406",
   "metadata": {},
   "outputs": [],
   "source": []
  }
 ],
 "metadata": {
  "kernelspec": {
   "display_name": "Python 3 (ipykernel)",
   "language": "python",
   "name": "python3"
  },
  "language_info": {
   "codemirror_mode": {
    "name": "ipython",
    "version": 3
   },
   "file_extension": ".py",
   "mimetype": "text/x-python",
   "name": "python",
   "nbconvert_exporter": "python",
   "pygments_lexer": "ipython3",
   "version": "3.11.4"
  }
 },
 "nbformat": 4,
 "nbformat_minor": 5
}
